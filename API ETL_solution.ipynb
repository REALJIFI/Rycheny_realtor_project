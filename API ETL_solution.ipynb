{
 "cells": [
  {
   "cell_type": "code",
   "execution_count": 1,
   "metadata": {},
   "outputs": [],
   "source": [
    "## STEP ONE: EXTRACTION"
   ]
  },
  {
   "cell_type": "code",
   "execution_count": 18,
   "metadata": {},
   "outputs": [],
   "source": [
    "import requests\n",
    "import pandas as pd\n",
    "import psycopg2\n",
    "import json\n",
    "import psycopg2\n",
    "from dotenv import load_dotenv\n",
    "import os"
   ]
  },
  {
   "cell_type": "markdown",
   "metadata": {},
   "source": [
    "### STEP 2 : CARRY OUT THE EXTRACTION "
   ]
  },
  {
   "cell_type": "code",
   "execution_count": null,
   "metadata": {},
   "outputs": [],
   "source": [
    "url = \"https://realty-mole-property-api.p.rapidapi.com/randomProperties\"\n",
    "\n",
    "querystring = {\"limit\":\"500\"}\n",
    "\n",
    "headers = {\n",
    "\t\"x-rapidapi-key\": \"e64c48a3b5mshfe9cdd04e4c4a29p18e80bjsn55c3acbad527\",\n",
    "\t\"x-rapidapi-host\": \"realty-mole-property-api.p.rapidapi.com\"\n",
    "}\n",
    "\n",
    "response = requests.get(url, headers=headers, params=querystring)"
   ]
  },
  {
   "cell_type": "code",
   "execution_count": null,
   "metadata": {},
   "outputs": [
    {
     "name": "stdout",
     "output_type": "stream",
     "text": [
      "{'messages': 'The API is unreachable, please contact the API provider', 'info': 'Your Client (working) ---> Gateway (working) ---> API (not working)'}\n"
     ]
    }
   ],
   "source": [
    "# convert the data from jason format to table format\n",
    "print(response.json())"
   ]
  },
  {
   "cell_type": "code",
   "execution_count": 12,
   "metadata": {},
   "outputs": [],
   "source": [
    "data = response.json()\n",
    "file_name = 'real_estate.json'\n",
    "\n",
    "with open(file_name, 'w') as file:\n",
    "    json.dump(data, file, indent=4)"
   ]
  },
  {
   "cell_type": "code",
   "execution_count": 13,
   "metadata": {},
   "outputs": [],
   "source": [
    "import json\n",
    "import pandas as pd\n",
    "\n",
    "with open('real_estate.json') as f:\n",
    "    data = json.load(f)\n",
    "\n",
    "# If data is a dictionary of scalars:\n",
    "real_estate_df = pd.DataFrame([data])\n"
   ]
  },
  {
   "cell_type": "markdown",
   "metadata": {},
   "source": [
    "#### TO PUT THE JSON FILE IN A TABLER FORM \n",
    "#### FOLLOW THIS STEPS"
   ]
  },
  {
   "cell_type": "code",
   "execution_count": null,
   "metadata": {},
   "outputs": [],
   "source": [
    "real_estate_df =  pd.read_json('real_estate.json')\n",
    "real_estate_df.head()"
   ]
  },
  {
   "cell_type": "code",
   "execution_count": null,
   "metadata": {},
   "outputs": [],
   "source": [
    "real_estate_df.head()"
   ]
  },
  {
   "cell_type": "markdown",
   "metadata": {},
   "source": [
    "###   DATA CLEANING AND TRASNFORMATION"
   ]
  },
  {
   "cell_type": "code",
   "execution_count": null,
   "metadata": {},
   "outputs": [],
   "source": [
    "#real_estate_df.info()"
   ]
  },
  {
   "cell_type": "code",
   "execution_count": null,
   "metadata": {},
   "outputs": [],
   "source": [
    "# REPLACE MISSING VALUES WITH APPROPRIATE REPLACEMENTS\n",
    "real_estate_df.fillna({\n",
    "        'bathrooms': 0.0,\n",
    "        'bedrooms' : 0.0,\n",
    "        'squareFootage' :0.0,\n",
    "        'county': 'uknown',\n",
    "        'propertyType': 'unknown',\n",
    "        'yearBuilt' : 0.0,  \n",
    "        'assessorID' : 'unkmown', \n",
    "        'legalDescription' : 'unknown',   \n",
    "        'subdivision' :'unknown',\n",
    "        'lotSize' : 0.0, \n",
    "        'ownerOccupied' : 0.0,\n",
    "        'features' : 'unknown',\n",
    "        'taxAssessment' : 'unknown',\n",
    "        'propertyTaxes' : 'unknown',  \n",
    "        'owner'         : 'unknown',\n",
    "        'zoning'        : 'unknown', \n",
    "        'lastSalePrice' : 0.0,\n",
    "        'addressLine2' : 'unknown'\n",
    "},inplace=True)"
   ]
  },
  {
   "cell_type": "markdown",
   "metadata": {},
   "source": [
    "STEP 3 MODELLING OF DATA"
   ]
  },
  {
   "cell_type": "markdown",
   "metadata": {},
   "source": [
    "CREATING DIMENSION TABLES"
   ]
  },
  {
   "cell_type": "code",
   "execution_count": null,
   "metadata": {},
   "outputs": [],
   "source": [
    "#real_estate_df.columns"
   ]
  },
  {
   "cell_type": "code",
   "execution_count": null,
   "metadata": {},
   "outputs": [],
   "source": [
    "location_dim = real_estate_df[['addressLine1', 'city', 'state', 'zipCode', 'formattedAddress','county',\n",
    "                              'longitude', 'latitude','addressLine2']].copy().drop_duplicates().reset_index(drop=True)\n",
    "# to add a column that was not in existence use the below code\n",
    "location_dim.index.name = 'location_id'\n",
    "# USE THIS CODE TO MAKE THE NEW CREATED INDEX TO APPEAR ON THE COLUMN HEADER\n",
    "location_dim = location_dim.reset_index()"
   ]
  },
  {
   "cell_type": "code",
   "execution_count": null,
   "metadata": {},
   "outputs": [],
   "source": [
    "#location_dim.head()"
   ]
  },
  {
   "cell_type": "code",
   "execution_count": null,
   "metadata": {},
   "outputs": [],
   "source": [
    "sales_dim = real_estate_df[['lastSaleDate','lastSalePrice']].copy().drop_duplicates().reset_index(drop=True)\n",
    "sales_dim.index.name = 'sales_id'\n",
    "sales_dim = sales_dim.reset_index()"
   ]
  },
  {
   "cell_type": "code",
   "execution_count": null,
   "metadata": {},
   "outputs": [],
   "source": [
    "# the features table has other tables in it that is in form of dictionary\n",
    "# SOLUTION : this table has to be converted to a string or you expand the dictionary\n",
    "\n",
    "real_estate_df['features'] = real_estate_df['features'].astype(str)\n",
    "real_estate_df['taxAssessment'] = real_estate_df['taxAssessment'].astype(str)\n",
    "real_estate_df['propertyTaxes'] = real_estate_df['propertyTaxes'].astype(str)"
   ]
  },
  {
   "cell_type": "code",
   "execution_count": null,
   "metadata": {},
   "outputs": [],
   "source": [
    "features_dim = real_estate_df[['bedrooms','bathrooms','squareFootage','lotSize',\n",
    "                               'features']].copy().drop_duplicates().reset_index(drop=True)\n",
    "features_dim.index.name = 'features_id'\n",
    "features_dim = features_dim.reset_index()\n"
   ]
  },
  {
   "cell_type": "code",
   "execution_count": null,
   "metadata": {},
   "outputs": [],
   "source": [
    "# PROPERTY FACT TABLE\n",
    "# remember to pick the colums you need from the property table after merging the dimension tables\n",
    "property_fact_table = real_estate_df.merge(sales_dim, on=['lastSaleDate','lastSalePrice'],how = 'left')\\\n",
    "                                    .merge(location_dim, on=['addressLine1', 'city', 'state', 'zipCode', 'formattedAddress','county','longitude', 'latitude','addressLine2'],how = 'left')\\\n",
    "                                    .merge(features_dim, on=['bedrooms','bathrooms','squareFootage','lotSize','features'],how='left')\\\n",
    "                                    [['id','sales_id','location_id', 'features_id','yearBuilt', 'assessorID','legalDescription', 'ownerOccupied','propertyType','taxAssessment', 'propertyTaxes','subdivision','zoning']]\n"
   ]
  },
  {
   "cell_type": "code",
   "execution_count": null,
   "metadata": {},
   "outputs": [
    {
     "name": "stdout",
     "output_type": "stream",
     "text": [
      "<class 'pandas.core.frame.DataFrame'>\n",
      "RangeIndex: 500 entries, 0 to 499\n",
      "Data columns (total 13 columns):\n",
      " #   Column            Non-Null Count  Dtype  \n",
      "---  ------            --------------  -----  \n",
      " 0   id                500 non-null    object \n",
      " 1   sales_id          500 non-null    int64  \n",
      " 2   location_id       500 non-null    int64  \n",
      " 3   features_id       500 non-null    int64  \n",
      " 4   yearBuilt         500 non-null    float64\n",
      " 5   assessorID        500 non-null    object \n",
      " 6   legalDescription  500 non-null    object \n",
      " 7   ownerOccupied     500 non-null    float64\n",
      " 8   propertyType      500 non-null    object \n",
      " 9   taxAssessment     500 non-null    object \n",
      " 10  propertyTaxes     500 non-null    object \n",
      " 11  subdivision       500 non-null    object \n",
      " 12  zoning            500 non-null    object \n",
      "dtypes: float64(2), int64(3), object(8)\n",
      "memory usage: 50.9+ KB\n"
     ]
    }
   ],
   "source": [
    "property_fact_table.info()"
   ]
  },
  {
   "cell_type": "code",
   "execution_count": null,
   "metadata": {},
   "outputs": [],
   "source": [
    "#real_estate_df.head()"
   ]
  },
  {
   "cell_type": "code",
   "execution_count": null,
   "metadata": {},
   "outputs": [],
   "source": [
    "#features_dim.head()"
   ]
  },
  {
   "cell_type": "markdown",
   "metadata": {},
   "source": [
    "STEP 4 SAVE ALL TABLES INTO CSV"
   ]
  },
  {
   "cell_type": "code",
   "execution_count": null,
   "metadata": {},
   "outputs": [],
   "source": [
    "location_dim.to_csv('location_dim.csv', index=False)\n",
    "sales_dim.to_csv('sales_dim.csv', index=False)\n",
    "features_dim.to_csv('features_dim.csv', index=False)\n",
    "property_fact_table.to_csv('property_fact_table.csv', index=False)"
   ]
  },
  {
   "cell_type": "markdown",
   "metadata": {},
   "source": [
    "### STEP 5 LOADING LAYER\n",
    "### OPEN PGADMIN SOFTWARE CLICK ON DATABASE AND CREATE A NEW DATABASE "
   ]
  },
  {
   "cell_type": "code",
   "execution_count": null,
   "metadata": {},
   "outputs": [],
   "source": [
    "# DEVELOPE A FUNCTION TO GET THE DATABASE CONNECTION\n",
    "# Load environment variables from .env file\n",
    "# Load environment variables from .env file\n",
    "load_dotenv()\n",
    "\n",
    "def get_db_connection():\n",
    "    connection = psycopg2.connect(\n",
    "        host=os.getenv('DB_HOST'),\n",
    "        database=os.getenv('DB_NAME'),\n",
    "        user=os.getenv('DB_USER'),\n",
    "        password=os.getenv('DB_PASSWORD'),\n",
    "        port=os.getenv('DB_PORT')  # Add the port here\n",
    "    ) \n",
    "    return connection\n",
    "\n",
    "# connect to database\n",
    "conn = get_db_connection()"
   ]
  },
  {
   "cell_type": "code",
   "execution_count": null,
   "metadata": {},
   "outputs": [],
   "source": [
    "# CREATE A FUNCTION THAT SETS UP THE SCHEMA AND TABLE\n",
    "def create_tables():\n",
    "    conn = get_db_connection()\n",
    "    cursor =conn.cursor()\n",
    "    create_table_query = '''\n",
    "                            CREATE SCHEMA IF NOT EXISTS RYCHENY_REALTOR;\n",
    "\n",
    "                            DROP TABLE IF EXISTS RYCHENY_REALTOR.location_dim CASCADE;\n",
    "                            DROP TABLE IF EXISTS RYCHENY_REALTOR.sales_dim CASCADE;\n",
    "                            DROP TABLE IF EXISTS RYCHENY_REALTOR.features_dim CASCADE;\n",
    "                            DROP TABLE IF EXISTS RYCHENY_REALTOR.property_fact_table CASCADE;\n",
    "\n",
    "                            CREATE TABLE RYCHENY_REALTOR.location_dim(\n",
    "                            location_id INTEGER PRIMARY KEY,\n",
    "                            addressLine1 VARCHAR(10000),\n",
    "                            city VARCHAR(1000),\n",
    "                            state VARCHAR(1000),\n",
    "                            zipCode INTEGER,\n",
    "                            formattedAddress VARCHAR(10000),\n",
    "                            county VARCHAR(1000),\n",
    "                            longitude FLOAT,\n",
    "                            latitude FLOAT,\n",
    "                            addressLine2 VARCHAR(1000)\n",
    "                            );\n",
    "\n",
    "                            CREATE TABLE RYCHENY_REALTOR.sales_dim(\n",
    "                            sales_id INTEGER PRIMARY KEY,\n",
    "                            lastSaleDate  VARCHAR(10000),\n",
    "                            lastSalePrice VARCHAR(1000)\n",
    "                            );\n",
    "\n",
    "                            CREATE TABLE RYCHENY_REALTOR.features_dim(\n",
    "                            features_id INTEGER PRIMARY KEY,\n",
    "                            bedrooms FLOAT,\n",
    "                            bathrooms FLOAT,\n",
    "                            squareFootage FLOAT,\n",
    "                            lotSize FLOAT,\n",
    "                            features  VARCHAR(10000)\n",
    "                            );\n",
    "\n",
    "                            CREATE TABLE RYCHENY_REALTOR.property_fact_table(\n",
    "                            id VARCHAR(10000) PRIMARY KEY,\n",
    "                            sales_id INTEGER,\n",
    "                            location_id INTEGER,\n",
    "                            features_id INTEGER,\n",
    "                            yearBuilt  FLOAT,\n",
    "                            assessorID VARCHAR(10000),\n",
    "                            legalDescription VARCHAR(1000),\n",
    "                            ownerOccupied FLOAT,\n",
    "                            propertyType VARCHAR(1000),\n",
    "                            taxAssessment VARCHAR(1000),\n",
    "                            propertyTaxes VARCHAR(1000),\n",
    "                            subdivision VARCHAR(1000),\n",
    "                            zoning VARCHAR(1000),\n",
    "                            FOREIGN KEY (location_id) REFERENCES RYCHENY_REALTOR.location_dim(location_id),\n",
    "                            FOREIGN KEY (sales_id) REFERENCES RYCHENY_REALTOR.sales_dim(sales_id),\n",
    "                            FOREIGN KEY (features_id) REFERENCES RYCHENY_REALTOR.features_dim(features_id)\n",
    "                            );\n",
    "                            '''\n",
    "    cursor.execute(create_table_query)\n",
    "    conn.commit()\n",
    "    cursor.close()\n",
    "    conn.close()"
   ]
  },
  {
   "cell_type": "code",
   "execution_count": null,
   "metadata": {},
   "outputs": [],
   "source": [
    "create_tables()"
   ]
  },
  {
   "cell_type": "code",
   "execution_count": null,
   "metadata": {},
   "outputs": [],
   "source": [
    "import logging\n",
    "import psycopg2  # or the relevant database adapter\n",
    "\n",
    "# Configure logging to log errors\n",
    "logging.basicConfig(filename='db_insert_errors.log', level=logging.ERROR)\n",
    "\n",
    "# Initialize the database connection and cursor\n",
    "try:\n",
    "    conn = psycopg2.connect(\n",
    "        database=os.getenv('DB_NAME'),\n",
    "        user=os.getenv('DB_USER'),\n",
    "        password=os.getenv('DB_PASSWORD'),\n",
    "        host=os.getenv('DB_HOST'),\n",
    "        port=os.getenv('DB_PORT')\n",
    "    )\n",
    "    cursor = conn.cursor()\n",
    "\n",
    "    # Iterate over the rows in the DataFrame and insert them into the database\n",
    "    for _, row in property_fact_table.iterrows():\n",
    "        try:\n",
    "            # Check if location_id exists in location_dim\n",
    "            cursor.execute('SELECT 1 FROM RYCHENY_REALTOR.location_dim WHERE id = %s', (row['location_id'],))\n",
    "            if cursor.fetchone() is None:\n",
    "                raise ValueError(f\"location_id {row['location_id']} does not exist in location_dim\")\n",
    "\n",
    "            # If the check passes, insert the row\n",
    "            cursor.execute(\n",
    "                '''INSERT INTO RYCHENY_REALTOR.property_fact_table(id, sales_id, location_id, features_id, yearBuilt,\n",
    "                assessorID, legalDescription, ownerOccupied, propertyType, taxAssessment, propertyTaxes, subdivision, zoning)\n",
    "                    VALUES (%s, %s, %s, %s, %s, %s, %s, %s, %s, %s, %s, %s, %s)''',\n",
    "                (row['id'], row['sales_id'], row['location_id'], row['features_id'], row['yearBuilt'], row['assessorID'],\n",
    "                 row['legalDescription'], row['ownerOccupied'], row['propertyType'], row['taxAssessment'], row['propertyTaxes'], row['subdivision'], row['zoning'])\n",
    "            )\n",
    "        except Exception as e:\n",
    "            # Log the error and continue with the next row\n",
    "            logging.error(f\"Error inserting row with id {row['id']}: {e}\")\n",
    "\n",
    "    # Commit changes\n",
    "    conn.commit()\n",
    "\n",
    "except Exception as e:\n",
    "    # Log any connection errors\n",
    "    logging.error(f\"Database connection failed: {e}\")\n",
    "\n",
    "finally:\n",
    "    # Ensure that the cursor and connection are properly closed\n",
    "    if 'cursor' in locals():\n",
    "        cursor.close()\n",
    "    if 'conn' in locals():\n",
    "        conn.close()"
   ]
  },
  {
   "cell_type": "code",
   "execution_count": null,
   "metadata": {},
   "outputs": [],
   "source": [
    "# Loading data into db tables\n",
    "conn = get_db_connection()\n",
    "cursor = conn.cursor()\n",
    "\n",
    "# Insert the dataframe into SQL tables using executemany for better performance\n",
    "cursor.executemany(\n",
    "    '''INSERT INTO RYCHENY_REALTOR.location_dim(location_id, addressLine1, city, state, zipCode, formattedAddress, county,\n",
    "                        longitude, latitude, addressLine2)\n",
    "        VALUES (%s, %s, %s, %s, %s, %s, %s, %s, %s, %s)''',\n",
    "    location_dim.values.tolist()\n",
    ")\n",
    "\n",
    "cursor.executemany(\n",
    "    '''INSERT INTO RYCHENY_REALTOR.sales_dim(sales_id, lastSaleDate, lastSalePrice)\n",
    "        VALUES (%s, %s, %s)''',\n",
    "    sales_dim[['sales_id', 'lastSaleDate', 'lastSalePrice']].values.tolist()\n",
    ")\n",
    "\n",
    "cursor.executemany(\n",
    "    '''INSERT INTO RYCHENY_REALTOR.features_dim(features_id, bedrooms, bathrooms, squareFootage, lotSize, features)\n",
    "        VALUES (%s, %s, %s, %s, %s, %s)''',\n",
    "    features_dim[['features_id', 'bedrooms', 'bathrooms', 'squareFootage', 'lotSize', 'features']].values.tolist()\n",
    ")\n",
    "\n",
    "cursor.executemany(\n",
    "    '''INSERT INTO RYCHENY_REALTOR.property_fact_table(id, sales_id, location_id, features_id, yearBuilt,\n",
    "    assessorID, legalDescription, ownerOccupied, propertyType, taxAssessment, propertyTaxes, subdivision, zoning)\n",
    "        VALUES (%s, %s, %s, %s, %s, %s, %s, %s, %s, %s, %s, %s, %s)''',\n",
    "    property_fact_table.values.tolist()\n",
    ")\n",
    "\n",
    "# Commit changes\n",
    "conn.commit()\n",
    "\n",
    "# Close connection\n",
    "cursor.close()\n",
    "conn.close()\n"
   ]
  },
  {
   "cell_type": "code",
   "execution_count": null,
   "metadata": {},
   "outputs": [],
   "source": [
    "location_dim.head()"
   ]
  },
  {
   "cell_type": "code",
   "execution_count": null,
   "metadata": {},
   "outputs": [],
   "source": [
    "#location_dim.info()"
   ]
  },
  {
   "cell_type": "markdown",
   "metadata": {},
   "source": [
    " STEP 5 LOADING INTO THE DATABASE ON POSTGRESQL "
   ]
  },
  {
   "cell_type": "code",
   "execution_count": null,
   "metadata": {},
   "outputs": [],
   "source": [
    "# import pandas as pd\n",
    "\n",
    "# Assuming property_fact_table is your DataFrame\n",
    "# Check the data types\n",
    "#print(property_fact_table.dtypes)\n",
    "\n",
    "# Inspect the problematic row(s)\n",
    "#print(property_fact_table[property_fact_table['id'].apply(lambda x: isinstance(x, str))])\n",
    "\n",
    "# Convert 'id' column to integer, if it should be an integer\n",
    "#property_fact_table['id'] = pd.to_numeric(property_fact_table['id'], errors='coerce')\n",
    "\n",
    "# Alternatively, you might want to handle specific cases or rows\n",
    "# E.g., replace non-numeric ids with a default value or drop those rows\n",
    "#property_fact_table = property_fact_table.dropna(subset=['id'])  # Drop rows where 'id' could not be converted\n",
    "#property_fact_table['id'] = property_fact_table['id'].astype(int)"
   ]
  },
  {
   "cell_type": "code",
   "execution_count": null,
   "metadata": {},
   "outputs": [],
   "source": [
    "display(property_fact_table.head())"
   ]
  }
 ],
 "metadata": {
  "kernelspec": {
   "display_name": "Python 3",
   "language": "python",
   "name": "python3"
  },
  "language_info": {
   "codemirror_mode": {
    "name": "ipython",
    "version": 3
   },
   "file_extension": ".py",
   "mimetype": "text/x-python",
   "name": "python",
   "nbconvert_exporter": "python",
   "pygments_lexer": "ipython3",
   "version": "3.9.2rc1"
  }
 },
 "nbformat": 4,
 "nbformat_minor": 2
}
